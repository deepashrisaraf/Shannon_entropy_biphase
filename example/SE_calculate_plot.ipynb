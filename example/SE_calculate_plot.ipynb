{
 "cells": [
  {
   "cell_type": "code",
   "execution_count": null,
   "metadata": {},
   "outputs": [],
   "source": [
    "import os\n",
    "import collections\n",
    "import numpy as np\n",
    "import matplotlib.pyplot as plt\n",
    "import pandas as pd\n",
    "from matplotlib.patches import Patch"
   ]
  },
  {
   "cell_type": "code",
   "execution_count": null,
   "metadata": {},
   "outputs": [],
   "source": [
    "from entropy_biphasic import *"
   ]
  },
  {
   "cell_type": "code",
   "execution_count": null,
   "metadata": {},
   "outputs": [],
   "source": [
    "os.chdir(\"/home/abc/dir\") #Path to the different directories containing gro files"
   ]
  },
  {
   "cell_type": "code",
   "execution_count": null,
   "metadata": {},
   "outputs": [],
   "source": [
    "all_dirs=['dir_1','dir_2','dir_3']"
   ]
  },
  {
   "cell_type": "code",
   "execution_count": null,
   "metadata": {},
   "outputs": [],
   "source": [
    "entropy_df=pd.DataFrame(columns=all_dirs,dtype='float64')"
   ]
  },
  {
   "cell_type": "code",
   "execution_count": null,
   "metadata": {},
   "outputs": [],
   "source": [
    "print(\"WARNING! Long calculation, grab a cup of tea!\")\n",
    "for d in entropy_df.columns:\n",
    "    traj_entropy = entropy4trajectory(d+'/O_gro') #This can be customized\n",
    "    entropy_df[d]=traj_entropy"
   ]
  },
  {
   "cell_type": "code",
   "execution_count": null,
   "metadata": {},
   "outputs": [],
   "source": [
    "all_medians=entropy_df.median()"
   ]
  },
  {
   "cell_type": "code",
   "execution_count": null,
   "metadata": {},
   "outputs": [],
   "source": [
    "# Boxplot of the Shannon entropy values for different concentrations\n",
    "\n",
    "fig,ax= plt.subplots(1,1,tight_layout=True, figsize=(12,9))\n",
    "\n",
    "box_positions=[.13,.25,.67]\n",
    "box_positions=[a*4 for a in box_positions]\n",
    "\n",
    "idx=0\n",
    "entropy_df.boxplot(\n",
    "                positions=box_positions,ax=ax,\n",
    "                patch_artist=True,\n",
    "                widths=.5,\n",
    "                color=\"grey\",\n",
    "                notch=True,bootstrap=1000,\n",
    "                boxprops = dict(linestyle='-', linewidth=5.0),\n",
    "                flierprops=dict(markeredgecolor='grey',marker='o',linewidth=8.0),\n",
    "                whiskerprops = dict(linestyle='-',linewidth=5.0, color='grey'),\n",
    "                zorder=1)\n",
    "\n",
    "for i in ax.findobj(Patch)[idx*5:-1]: #laar five plots\n",
    "    i.set_facecolor(\"grey\")\n",
    "    i.set_edgecolor('black')\n",
    "\n",
    "plt.plot(box_positions,all_medians,color=\"grey\")\n",
    "\n",
    "idx+=1\n",
    "\n",
    "for axis in ['top', 'bottom', 'left', 'right']:\n",
    "\n",
    "        ax.spines[axis].set_linewidth(4)  # change width\n",
    "        ax.spines[axis].set_color('black')    # change color\n",
    "\n",
    "ax.set_xticklabels(['1', '2', '3'])        \n",
    "plt.grid(False)\n",
    "plt.xlabel('Cocentration', fontsize=32, weight='bold')\n",
    "plt.ylabel('Shannon entropy of mixing', fontsize=32, weight='bold')\n",
    "plt.xticks(fontsize=28)\n",
    "plt.yticks(fontsize=28)\n",
    "plt.savefig(\"Entropy.svg\")\n",
    "plt.show()"
   ]
  },
  {
   "cell_type": "markdown",
   "metadata": {},
   "source": [
    "A typical output for the above script\n",
    "Ref: Saraf et al. https://doi.org/10.1016/j.molliq.2023.121803\n",
    "\n",
    "<img src=\"entropy_boxplot_example.svg\" width=500 />"
   ]
  },
  {
   "cell_type": "code",
   "execution_count": null,
   "metadata": {},
   "outputs": [],
   "source": []
  }
 ],
 "metadata": {
  "kernelspec": {
   "display_name": "Python 3",
   "language": "python",
   "name": "python3"
  },
  "language_info": {
   "codemirror_mode": {
    "name": "ipython",
    "version": 3
   },
   "file_extension": ".py",
   "mimetype": "text/x-python",
   "name": "python",
   "nbconvert_exporter": "python",
   "pygments_lexer": "ipython3",
   "version": "3.7.6"
  }
 },
 "nbformat": 4,
 "nbformat_minor": 4
}
